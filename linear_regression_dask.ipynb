{
 "cells": [
  {
   "cell_type": "code",
   "execution_count": 12,
   "metadata": {},
   "outputs": [],
   "source": [
    "import dask.dataframe as dd"
   ]
  },
  {
   "cell_type": "code",
   "execution_count": 13,
   "metadata": {},
   "outputs": [],
   "source": [
    "# Vary the number of jobs\r\n",
    "num_jobs = [1, 2, 3, 4, 5, 6]"
   ]
  },
  {
   "cell_type": "code",
   "execution_count": 14,
   "metadata": {},
   "outputs": [],
   "source": [
    "used_cars_hdf = 'used_cars_preprocessed.hdf'\r\n",
    "data = dd.read_hdf(used_cars_hdf, '/data-*')"
   ]
  },
  {
   "cell_type": "code",
   "execution_count": 15,
   "metadata": {},
   "outputs": [
    {
     "data": {
      "text/html": [
       "<table style=\"border: 2px solid white;\">\n",
       "<tr>\n",
       "<td style=\"vertical-align: top; border: 0px solid white\">\n",
       "<h3 style=\"text-align: left;\">Client</h3>\n",
       "<ul style=\"text-align: left; list-style: none; margin: 0; padding: 0;\">\n",
       "  <li><b>Scheduler: </b>tcp://127.0.0.1:55212</li>\n",
       "  <li><b>Dashboard: </b><a href='http://127.0.0.1:8787/status' target='_blank'>http://127.0.0.1:8787/status</a></li>\n",
       "</ul>\n",
       "</td>\n",
       "<td style=\"vertical-align: top; border: 0px solid white\">\n",
       "<h3 style=\"text-align: left;\">Cluster</h3>\n",
       "<ul style=\"text-align: left; list-style:none; margin: 0; padding: 0;\">\n",
       "  <li><b>Workers: </b>4</li>\n",
       "  <li><b>Cores: </b>4</li>\n",
       "  <li><b>Memory: </b>8.50 GB</li>\n",
       "</ul>\n",
       "</td>\n",
       "</tr>\n",
       "</table>"
      ],
      "text/plain": [
       "<Client: 'tcp://127.0.0.1:55212' processes=4 threads=4, memory=8.50 GB>"
      ]
     },
     "execution_count": 15,
     "metadata": {},
     "output_type": "execute_result"
    }
   ],
   "source": [
    "from dask.distributed import Client\r\n",
    "\r\n",
    "client = Client()\r\n",
    "client"
   ]
  },
  {
   "cell_type": "code",
   "execution_count": 16,
   "metadata": {},
   "outputs": [],
   "source": [
    "from sklearn.linear_model import LinearRegression\r\n",
    "import joblib\r\n",
    "import datetime\r\n",
    "import time\r\n",
    "\r\n",
    "for n in num_jobs:\r\n",
    "    # Create a model for linear regression\r\n",
    "    model = LinearRegression()\r\n",
    "\r\n",
    "    # Get training data and true prices and\r\n",
    "    # convert them to Dask arrays\r\n",
    "    X = data.drop(labels=['price'], axis=1).to_dask_array(lengths=True)\r\n",
    "    y = data['price'].to_dask_array(lengths=True)\r\n",
    "\r\n",
    "    # Train the model and measure the time\r\n",
    "    start = time.time()\r\n",
    "\r\n",
    "    with joblib.parallel_backend('dask', n_jobs=n):\r\n",
    "        model.fit(X, y)\r\n",
    "\r\n",
    "    duration = time.time() - start\r\n",
    "    print(f'Duration (n = {n}): {datetime.timedelta(seconds=duration)}')"
   ]
  }
 ],
 "metadata": {
  "interpreter": {
   "hash": "e81d7c230b8f51fa725d28130c9be0e36dcedfe5f3218c4274b7b837420e6437"
  },
  "kernelspec": {
   "display_name": "Python 3.8.10 64-bit ('DaskML': conda)",
   "name": "python3"
  },
  "language_info": {
   "name": "python",
   "version": ""
  },
  "orig_nbformat": 4
 },
 "nbformat": 4,
 "nbformat_minor": 2
}